{
 "cells": [
  {
   "cell_type": "markdown",
   "metadata": {},
   "source": [
    "Задача проекта - составить таблицу для рекомендательной системы.\n",
    "\n",
    "Продакт-менеджер школы SkillFactory создаёт рекомендательную систему, которая предлагает пользователю к купленному курсу еще два популярных курса. Для реализации этого нам нужно выгрузить из системы курсы, которые пользователи покупают чаще всего в связке, и выбрать из них самые популярные. \n",
    "\n",
    "После выгрузки SQL-запроса, у нас получилась таблица с двумя столбцами: user_id и resource_id. Наша задача - сгруппировать номера курсов по пользователям, чтобы посмотреть, какие пользователи покупали какие курсы, и отранжировать курсы по популярности."
   ]
  },
  {
   "cell_type": "markdown",
   "metadata": {},
   "source": [
    "Загрузим полученные из базы SQL данные и изучим их."
   ]
  },
  {
   "cell_type": "code",
   "execution_count": 1,
   "metadata": {},
   "outputs": [
    {
     "data": {
      "text/html": [
       "<div>\n",
       "<style scoped>\n",
       "    .dataframe tbody tr th:only-of-type {\n",
       "        vertical-align: middle;\n",
       "    }\n",
       "\n",
       "    .dataframe tbody tr th {\n",
       "        vertical-align: top;\n",
       "    }\n",
       "\n",
       "    .dataframe thead th {\n",
       "        text-align: right;\n",
       "    }\n",
       "</style>\n",
       "<table border=\"1\" class=\"dataframe\">\n",
       "  <thead>\n",
       "    <tr style=\"text-align: right;\">\n",
       "      <th></th>\n",
       "      <th>user_id</th>\n",
       "      <th>resource_id</th>\n",
       "    </tr>\n",
       "  </thead>\n",
       "  <tbody>\n",
       "    <tr>\n",
       "      <th>0</th>\n",
       "      <td>1010882</td>\n",
       "      <td>490</td>\n",
       "    </tr>\n",
       "    <tr>\n",
       "      <th>1</th>\n",
       "      <td>1010802</td>\n",
       "      <td>514</td>\n",
       "    </tr>\n",
       "    <tr>\n",
       "      <th>2</th>\n",
       "      <td>1011556</td>\n",
       "      <td>490</td>\n",
       "    </tr>\n",
       "    <tr>\n",
       "      <th>3</th>\n",
       "      <td>1120298</td>\n",
       "      <td>514</td>\n",
       "    </tr>\n",
       "    <tr>\n",
       "      <th>4</th>\n",
       "      <td>750528</td>\n",
       "      <td>552</td>\n",
       "    </tr>\n",
       "  </tbody>\n",
       "</table>\n",
       "</div>"
      ],
      "text/plain": [
       "   user_id  resource_id\n",
       "0  1010882          490\n",
       "1  1010802          514\n",
       "2  1011556          490\n",
       "3  1120298          514\n",
       "4   750528          552"
      ]
     },
     "execution_count": 1,
     "metadata": {},
     "output_type": "execute_result"
    }
   ],
   "source": [
    "import pandas as pd\n",
    "from collections import defaultdict\n",
    "\n",
    "# прочитаем выгруженный файл\n",
    "data = pd.read_csv('final_sql_query.csv')\n",
    "\n",
    "data.head()"
   ]
  },
  {
   "cell_type": "code",
   "execution_count": 2,
   "metadata": {
    "scrolled": true
   },
   "outputs": [
    {
     "name": "stdout",
     "output_type": "stream",
     "text": [
      "<class 'pandas.core.frame.DataFrame'>\n",
      "RangeIndex: 70581 entries, 0 to 70580\n",
      "Data columns (total 2 columns):\n",
      " #   Column       Non-Null Count  Dtype\n",
      "---  ------       --------------  -----\n",
      " 0   user_id      70581 non-null  int64\n",
      " 1   resource_id  70581 non-null  int64\n",
      "dtypes: int64(2)\n",
      "memory usage: 1.1 MB\n"
     ]
    }
   ],
   "source": [
    "# посмотрим на типы наших данных\n",
    "data.info()"
   ]
  },
  {
   "cell_type": "markdown",
   "metadata": {},
   "source": [
    "Проверим, есть ли у нас дубликаты (спойлер: есть!)"
   ]
  },
  {
   "cell_type": "code",
   "execution_count": 3,
   "metadata": {},
   "outputs": [
    {
     "data": {
      "text/plain": [
       "157"
      ]
     },
     "execution_count": 3,
     "metadata": {},
     "output_type": "execute_result"
    }
   ],
   "source": [
    "sum(data.duplicated())"
   ]
  },
  {
   "cell_type": "markdown",
   "metadata": {},
   "source": [
    "Получается, что 157 пользователей купили один и тот же курс два раза. Возможно, и не 157, а меньше, и купили не два раза, а больше, но это сейчас не важно. Избавимся от дубликатов."
   ]
  },
  {
   "cell_type": "code",
   "execution_count": 4,
   "metadata": {},
   "outputs": [],
   "source": [
    "data.drop_duplicates(inplace=True)"
   ]
  },
  {
   "cell_type": "markdown",
   "metadata": {},
   "source": [
    "Теперь сгруппируем данные по пользователям, чтобы увидеть, сколько курсов купил каждый пользователь."
   ]
  },
  {
   "cell_type": "code",
   "execution_count": 5,
   "metadata": {
    "scrolled": true
   },
   "outputs": [
    {
     "data": {
      "text/html": [
       "<div>\n",
       "<style scoped>\n",
       "    .dataframe tbody tr th:only-of-type {\n",
       "        vertical-align: middle;\n",
       "    }\n",
       "\n",
       "    .dataframe tbody tr th {\n",
       "        vertical-align: top;\n",
       "    }\n",
       "\n",
       "    .dataframe thead th {\n",
       "        text-align: right;\n",
       "    }\n",
       "</style>\n",
       "<table border=\"1\" class=\"dataframe\">\n",
       "  <thead>\n",
       "    <tr style=\"text-align: right;\">\n",
       "      <th></th>\n",
       "      <th>user_id</th>\n",
       "      <th>resource_id</th>\n",
       "    </tr>\n",
       "  </thead>\n",
       "  <tbody>\n",
       "    <tr>\n",
       "      <th>0</th>\n",
       "      <td>51</td>\n",
       "      <td>2</td>\n",
       "    </tr>\n",
       "    <tr>\n",
       "      <th>1</th>\n",
       "      <td>974</td>\n",
       "      <td>1</td>\n",
       "    </tr>\n",
       "    <tr>\n",
       "      <th>2</th>\n",
       "      <td>2233</td>\n",
       "      <td>1</td>\n",
       "    </tr>\n",
       "    <tr>\n",
       "      <th>3</th>\n",
       "      <td>2581</td>\n",
       "      <td>1</td>\n",
       "    </tr>\n",
       "    <tr>\n",
       "      <th>4</th>\n",
       "      <td>3480</td>\n",
       "      <td>1</td>\n",
       "    </tr>\n",
       "  </tbody>\n",
       "</table>\n",
       "</div>"
      ],
      "text/plain": [
       "   user_id  resource_id\n",
       "0       51            2\n",
       "1      974            1\n",
       "2     2233            1\n",
       "3     2581            1\n",
       "4     3480            1"
      ]
     },
     "execution_count": 5,
     "metadata": {},
     "output_type": "execute_result"
    }
   ],
   "source": [
    "users_by_courses = data.groupby('user_id', as_index=False).count()\n",
    "users_by_courses.head()"
   ]
  },
  {
   "cell_type": "markdown",
   "metadata": {},
   "source": [
    "Оставим только тех, кто купил более одного курса."
   ]
  },
  {
   "cell_type": "code",
   "execution_count": 6,
   "metadata": {},
   "outputs": [
    {
     "data": {
      "text/html": [
       "<div>\n",
       "<style scoped>\n",
       "    .dataframe tbody tr th:only-of-type {\n",
       "        vertical-align: middle;\n",
       "    }\n",
       "\n",
       "    .dataframe tbody tr th {\n",
       "        vertical-align: top;\n",
       "    }\n",
       "\n",
       "    .dataframe thead th {\n",
       "        text-align: right;\n",
       "    }\n",
       "</style>\n",
       "<table border=\"1\" class=\"dataframe\">\n",
       "  <thead>\n",
       "    <tr style=\"text-align: right;\">\n",
       "      <th></th>\n",
       "      <th>user_id</th>\n",
       "      <th>resource_id</th>\n",
       "    </tr>\n",
       "  </thead>\n",
       "  <tbody>\n",
       "    <tr>\n",
       "      <th>0</th>\n",
       "      <td>51</td>\n",
       "      <td>2</td>\n",
       "    </tr>\n",
       "    <tr>\n",
       "      <th>6</th>\n",
       "      <td>6117</td>\n",
       "      <td>3</td>\n",
       "    </tr>\n",
       "    <tr>\n",
       "      <th>12</th>\n",
       "      <td>10275</td>\n",
       "      <td>2</td>\n",
       "    </tr>\n",
       "    <tr>\n",
       "      <th>13</th>\n",
       "      <td>10457</td>\n",
       "      <td>2</td>\n",
       "    </tr>\n",
       "    <tr>\n",
       "      <th>20</th>\n",
       "      <td>17166</td>\n",
       "      <td>2</td>\n",
       "    </tr>\n",
       "  </tbody>\n",
       "</table>\n",
       "</div>"
      ],
      "text/plain": [
       "    user_id  resource_id\n",
       "0        51            2\n",
       "6      6117            3\n",
       "12    10275            2\n",
       "13    10457            2\n",
       "20    17166            2"
      ]
     },
     "execution_count": 6,
     "metadata": {},
     "output_type": "execute_result"
    }
   ],
   "source": [
    "users_with_more_courses = users_by_courses[users_by_courses['resource_id'] > 1]\n",
    "users_with_more_courses.head()"
   ]
  },
  {
   "cell_type": "markdown",
   "metadata": {},
   "source": [
    "Сформируем список."
   ]
  },
  {
   "cell_type": "code",
   "execution_count": 7,
   "metadata": {},
   "outputs": [],
   "source": [
    "# список пользователей, которые купили более одного курса\n",
    "users_with_more_courses_set = set(users_with_more_courses['user_id'])"
   ]
  },
  {
   "cell_type": "markdown",
   "metadata": {},
   "source": [
    "Теперь нам нужно понять, какие курсы пользователи покупали вместе с другими."
   ]
  },
  {
   "cell_type": "code",
   "execution_count": 8,
   "metadata": {},
   "outputs": [],
   "source": [
    "# создадим словарь, в котором ключами будут id пользователей, купивших более одного курса,\n",
    "# а значениями - списки купленных ими курсов\n",
    "courses = data.groupby('user_id')['resource_id'].apply(lambda x: list(x)).reset_index()\n",
    "courses = courses[courses['user_id'].isin(users_with_more_courses_set)] # убираем дубликаты\n",
    "courses = courses[courses['resource_id'].map(len) > 1] # оставляем только пользователей, которые купили два и более курса\n",
    "courses_dict = courses.to_dict()"
   ]
  },
  {
   "cell_type": "code",
   "execution_count": 9,
   "metadata": {},
   "outputs": [],
   "source": [
    "# разобъем все курсы на пары\n",
    "# т.к. нам понадобится информация о количестве пар, для хранения используем словарь, где\n",
    "# в качестве ключа будет кортеж из пары курсов, отсортированных по возрастанию, \n",
    "# а в качестве значения - количество раз, которое эта пара встречается в покупках.\n",
    "# для генерации всех пар ключей из списка удобно воспользоваться функией combinations из модуля itertools\n",
    "import itertools\n",
    "course_pairs = defaultdict(int)\n",
    "for course_set in courses_dict['resource_id'].values():\n",
    "    pairs = itertools.combinations(course_set, 2)\n",
    "    for pair in pairs:\n",
    "        tuple_pair = tuple(sorted(pair))\n",
    "        course_pairs[tuple_pair] += 1"
   ]
  },
  {
   "cell_type": "code",
   "execution_count": 10,
   "metadata": {},
   "outputs": [
    {
     "name": "stdout",
     "output_type": "stream",
     "text": [
      "3989\n"
     ]
    }
   ],
   "source": [
    "print(len(course_pairs))"
   ]
  },
  {
   "cell_type": "markdown",
   "metadata": {},
   "source": [
    "У нас получилось 3989 пар курсов в покупках клиентов.\n",
    "\n",
    "Создадим таблицу с тремя столбцами:<br>\n",
    "* Столбец 1. Курс, к которому идёт рекомендация\n",
    "* Столбец 2. Курс для рекомендации № 1 (самый популярный)\n",
    "* Столбец 3. Курс для рекомендации № 2 (второй по популярности)."
   ]
  },
  {
   "cell_type": "code",
   "execution_count": 11,
   "metadata": {},
   "outputs": [
    {
     "name": "stdout",
     "output_type": "stream",
     "text": [
      "Всего получилось 126 курсов, для которых можно подобрать рекомендации.\n"
     ]
    }
   ],
   "source": [
    "# столбец №1 - это уникальный список всех курсов, которые встречаются в наших ключах\n",
    "# в библиотеке itertools есть функция, которая поможет нам \"раскрыть\" список\n",
    "col_1 = list(set(itertools.chain(*course_pairs.keys()))) \n",
    "print(\"Всего получилось {} курсов, для которых можно подобрать рекомендации.\".format(str(len(col_1))))"
   ]
  },
  {
   "cell_type": "code",
   "execution_count": 12,
   "metadata": {},
   "outputs": [],
   "source": [
    "# столбцы №2 и №3 - это курсы, которые чаще всего встречается в парах с этим курсом.\n",
    "col_2 = list()\n",
    "col_3 = list()\n",
    "times_2 = list()\n",
    "times_3 = list()\n",
    "# вспомогательная функция, возвращает искомый курс из кортежа\n",
    "def the_other_course(pair, course):\n",
    "    if pair[0] == course:\n",
    "        return pair[1]\n",
    "    else:\n",
    "        return pair[0]\n",
    "# запустим цикл по всем выбранным нами курсам    \n",
    "for course in col_1:\n",
    "    # отфильтруем курсы: выберем те пары, где встречается course\n",
    "    cur_course_pairs = dict(filter(lambda item: item[0][0] == course or item[0][1] == course, course_pairs.items()))\n",
    "    # отсортируем получившийся словарь по убыванию\n",
    "    sorted_ccp = {key: value for key, value in sorted(cur_course_pairs.items(), key=lambda item: item[1], reverse=True)}\n",
    "    # запишем вторые курсы из двух самых больших значений в наши колонки\n",
    "    # и заодно запишем количество раз, которое эти курсы встречаются вместе\n",
    "    sorted_ccp_iter = iter(sorted_ccp.items())\n",
    "    pair, times = next(sorted_ccp_iter)\n",
    "    col_2.append(the_other_course(pair, course))\n",
    "    times_2.append(times)\n",
    "    pair, times = next(sorted_ccp_iter)\n",
    "    col_3.append(the_other_course(pair, course))\n",
    "    times_3.append(times)"
   ]
  },
  {
   "cell_type": "code",
   "execution_count": 13,
   "metadata": {},
   "outputs": [],
   "source": [
    "# соберем получившиеся данные в DataFrame\n",
    "recommendations = pd.DataFrame({'1stCourse': col_1, '2ndCourse': col_2, 'Occurences1&2': times_2, '3rdCourse': col_3, 'Occurences1&3': times_3}, columns=['1stCourse', '2ndCourse', 'Occurences1&2', '3rdCourse', 'Occurences1&3'])"
   ]
  },
  {
   "cell_type": "code",
   "execution_count": 14,
   "metadata": {
    "scrolled": true
   },
   "outputs": [
    {
     "data": {
      "text/html": [
       "<div>\n",
       "<style scoped>\n",
       "    .dataframe tbody tr th:only-of-type {\n",
       "        vertical-align: middle;\n",
       "    }\n",
       "\n",
       "    .dataframe tbody tr th {\n",
       "        vertical-align: top;\n",
       "    }\n",
       "\n",
       "    .dataframe thead th {\n",
       "        text-align: right;\n",
       "    }\n",
       "</style>\n",
       "<table border=\"1\" class=\"dataframe\">\n",
       "  <thead>\n",
       "    <tr style=\"text-align: right;\">\n",
       "      <th></th>\n",
       "      <th>1stCourse</th>\n",
       "      <th>2ndCourse</th>\n",
       "      <th>Occurences1&amp;2</th>\n",
       "      <th>3rdCourse</th>\n",
       "      <th>Occurences1&amp;3</th>\n",
       "    </tr>\n",
       "  </thead>\n",
       "  <tbody>\n",
       "    <tr>\n",
       "      <th>0</th>\n",
       "      <td>513</td>\n",
       "      <td>503</td>\n",
       "      <td>55</td>\n",
       "      <td>551</td>\n",
       "      <td>38</td>\n",
       "    </tr>\n",
       "    <tr>\n",
       "      <th>1</th>\n",
       "      <td>514</td>\n",
       "      <td>551</td>\n",
       "      <td>200</td>\n",
       "      <td>515</td>\n",
       "      <td>139</td>\n",
       "    </tr>\n",
       "    <tr>\n",
       "      <th>2</th>\n",
       "      <td>515</td>\n",
       "      <td>551</td>\n",
       "      <td>417</td>\n",
       "      <td>489</td>\n",
       "      <td>286</td>\n",
       "    </tr>\n",
       "    <tr>\n",
       "      <th>3</th>\n",
       "      <td>516</td>\n",
       "      <td>745</td>\n",
       "      <td>199</td>\n",
       "      <td>553</td>\n",
       "      <td>107</td>\n",
       "    </tr>\n",
       "    <tr>\n",
       "      <th>4</th>\n",
       "      <td>517</td>\n",
       "      <td>551</td>\n",
       "      <td>52</td>\n",
       "      <td>750</td>\n",
       "      <td>34</td>\n",
       "    </tr>\n",
       "  </tbody>\n",
       "</table>\n",
       "</div>"
      ],
      "text/plain": [
       "   1stCourse  2ndCourse  Occurences1&2  3rdCourse  Occurences1&3\n",
       "0        513        503             55        551             38\n",
       "1        514        551            200        515            139\n",
       "2        515        551            417        489            286\n",
       "3        516        745            199        553            107\n",
       "4        517        551             52        750             34"
      ]
     },
     "execution_count": 14,
     "metadata": {},
     "output_type": "execute_result"
    }
   ],
   "source": [
    "recommendations.head()"
   ]
  },
  {
   "cell_type": "markdown",
   "metadata": {},
   "source": [
    "В целом, таблица с рекомендациями готова. Однако есть еще один момент: а что, если рекомендация встречается слишком мало раз? В этом случае логично будет определить минимальную границу и рекомендовать какой-то другой курс. <br>\n",
    "В качестве минимальной границы установим 10-й процентиль. Это такой показатель, выше которого находятся 90% всех данных."
   ]
  },
  {
   "cell_type": "code",
   "execution_count": 15,
   "metadata": {},
   "outputs": [
    {
     "name": "stdout",
     "output_type": "stream",
     "text": [
      "10-й процентиль количества рекомендаций для первого курса: 5.0\n",
      "10-й процентиль количества рекомендаций для второго курса: 3.5\n"
     ]
    }
   ],
   "source": [
    "print(\"10-й процентиль количества рекомендаций для первого курса: \" + str(recommendations['Occurences1&2'].quantile(q=0.1)))\n",
    "print(\"10-й процентиль количества рекомендаций для второго курса: \" + str(recommendations['Occurences1&3'].quantile(q=0.1)))"
   ]
  },
  {
   "cell_type": "markdown",
   "metadata": {},
   "source": [
    "Это значит, что мы берем рекомендацию для первого курса, если количество совпадений - больше 5, а для второго - больше 3.\n",
    "Если же количество совпадений меньше - будем рекомендовать один из самых популярных курсов, если мы его еще не рекомендовали."
   ]
  },
  {
   "cell_type": "code",
   "execution_count": 16,
   "metadata": {},
   "outputs": [],
   "source": [
    "# создадим константы\n",
    "FIRST_THRESH = 5\n",
    "SECOND_THRESH = 3"
   ]
  },
  {
   "cell_type": "markdown",
   "metadata": {},
   "source": [
    "Сначала составим список из 4х самых популярных курсов. Нам хватит 4х, т.к. у нас 3 колонки."
   ]
  },
  {
   "cell_type": "code",
   "execution_count": 17,
   "metadata": {},
   "outputs": [
    {
     "name": "stdout",
     "output_type": "stream",
     "text": [
      "[551, 566, 490, 794]\n"
     ]
    }
   ],
   "source": [
    "popular = data['resource_id'].value_counts().index[:4].tolist()\n",
    "print(popular)"
   ]
  },
  {
   "cell_type": "markdown",
   "metadata": {},
   "source": [
    "Будем подставлять в нужную колонку тот из столбцов, где количество совпадений - меньше выбранного нами количества."
   ]
  },
  {
   "cell_type": "code",
   "execution_count": 18,
   "metadata": {},
   "outputs": [],
   "source": [
    "def to_popular(course1, course2, course3, popular):\n",
    "    \"\"\"\n",
    "    функция to_popular принимает на входе три курса, и выдает первый по очереди популярный курс, который \n",
    "    не является ни одним из трех входящих курсов.\n",
    "    \"\"\"\n",
    "    for course in popular:\n",
    "        if course1 != course and course2 != course and course3 != course:\n",
    "            return course\n",
    "    return 0\n",
    "\n",
    "for _, row in recommendations.iterrows():\n",
    "    if row['Occurences1&2'] <= FIRST_THRESH:\n",
    "        row['2ndCourse'] = to_popular(row['1stCourse'], row['2ndCourse'], row['3rdCourse'], popular)\n",
    "    if row['Occurences1&3'] <= SECOND_THRESH:\n",
    "        row['3rdCourse'] = to_popular(row['1stCourse'], row['2ndCourse'], row['3rdCourse'], popular)"
   ]
  },
  {
   "cell_type": "markdown",
   "metadata": {},
   "source": [
    "Сохраним получившиеся колонки в отдельный датафрейм и выгрузим в формат .csv"
   ]
  },
  {
   "cell_type": "code",
   "execution_count": 19,
   "metadata": {},
   "outputs": [],
   "source": [
    "# выберем колонки, которые будем сохранять в файл\n",
    "to_export = recommendations[['1stCourse', '2ndCourse', '3rdCourse']].copy()\n",
    "# отсортируем по первому курсу по возрастанию\n",
    "to_export.sort_values(by=['1stCourse'], inplace=True)\n",
    "# сделаем колонку с первым курсом индексом, т.к. у нас в ней только уникальные значения\n",
    "to_export.set_index(['1stCourse'], inplace=True)\n",
    "# выгрузим в .csv\n",
    "to_export.to_csv('ExportedRecommendations.csv')"
   ]
  }
 ],
 "metadata": {
  "kernelspec": {
   "display_name": "Python 3",
   "language": "python",
   "name": "python3"
  },
  "language_info": {
   "codemirror_mode": {
    "name": "ipython",
    "version": 3
   },
   "file_extension": ".py",
   "mimetype": "text/x-python",
   "name": "python",
   "nbconvert_exporter": "python",
   "pygments_lexer": "ipython3",
   "version": "3.7.7"
  }
 },
 "nbformat": 4,
 "nbformat_minor": 4
}
